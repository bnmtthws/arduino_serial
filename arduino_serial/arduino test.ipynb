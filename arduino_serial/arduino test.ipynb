{
 "metadata": {
  "name": "",
  "signature": "sha256:afa8a307ac2ee163dcc6fecffaefc7082f7ca56c9df1dadfe2d817d5c6dcd94e"
 },
 "nbformat": 3,
 "nbformat_minor": 0,
 "worksheets": [
  {
   "cells": [
    {
     "cell_type": "code",
     "collapsed": false,
     "input": [
      "import sys, serial\n",
      "import numpy as np\n",
      "from time import sleep\n",
      "from collections import deque\n",
      "from matplotlib import pyplot as plt\n",
      "%matplotlib inline\n",
      "%matplotlib qt"
     ],
     "language": "python",
     "metadata": {},
     "outputs": [],
     "prompt_number": 49
    },
    {
     "cell_type": "code",
     "collapsed": false,
     "input": [
      "# class that holds analog data for N samples\n",
      "class AnalogData:\n",
      "  # constr\n",
      "  def __init__(self, maxLen):\n",
      "    self.ax = deque([0.0]*maxLen)\n",
      "    self.ay = deque([0.0]*maxLen)\n",
      "    self.maxLen = maxLen\n",
      "\n",
      "  # ring buffer\n",
      "  def addToBuf(self, buf, val):\n",
      "    if len(buf) < self.maxLen:\n",
      "      buf.append(val)\n",
      "    else:\n",
      "      buf.pop()\n",
      "      buf.appendleft(val)\n",
      "\n",
      "  # add data\n",
      "  def add(self, data):\n",
      "    assert(len(data) == 2)\n",
      "    self.addToBuf(self.ax, data[0])\n",
      "    self.addToBuf(self.ay, data[1])"
     ],
     "language": "python",
     "metadata": {},
     "outputs": [],
     "prompt_number": 61
    },
    {
     "cell_type": "code",
     "collapsed": false,
     "input": [
      "# plot class\n",
      "class AnalogPlot:\n",
      "  # constr\n",
      "  def __init__(self, analogData):\n",
      "    # set plot to animated\n",
      "    self.fig, axplt = plt.subplots() #plt.ion() \n",
      "    self.axline, = axplt.plot(analogData.ax)\n",
      "    self.ayline, = axplt.plot(analogData.ay)\n",
      "    plt.ylim([0, 15000])\n",
      "\n",
      "  # update plot\n",
      "  def update(self, analogData):\n",
      "    self.axline.set_ydata(analogData.ax)\n",
      "    self.ayline.set_ydata(analogData.ay)\n",
      "    self.fig.canvas.draw()\n",
      "    self.fig.canvas.flush_events()\n",
      "    plt.draw()"
     ],
     "language": "python",
     "metadata": {},
     "outputs": []
    },
    {
     "cell_type": "code",
     "collapsed": false,
     "input": [
      "# main() function\n",
      "def main(dev):\n",
      "\n",
      "    strPort = dev\n",
      "\n",
      "    # plot parameters\n",
      "    analogData = AnalogData(100)\n",
      "    analogPlot = AnalogPlot(analogData)\n",
      "    print('plotting data...')\n",
      "\n",
      "    connected = False\n",
      "    \n",
      "    # open serial port\n",
      "    ser = serial.Serial(strPort, 115200)\n",
      "    for i in range(0,10000):       \n",
      "        sleep(.01)\n",
      "        line = ser.readline().strip()\n",
      "#        print(data)\n",
      "        data = [float(val) for val in line.split()]\n",
      "#        print(data)\n",
      "        if(len(data) == 2):\n",
      "            print(data)\n",
      "            analogData.add(data)\n",
      "            analogPlot.update(analogData)\n",
      "    \n",
      "    # close serial\n",
      "    ser.flush()\n",
      "    ser.close()"
     ],
     "language": "python",
     "metadata": {},
     "outputs": []
    },
    {
     "cell_type": "code",
     "collapsed": false,
     "input": [
      "USB1 = '/dev/tty.usbmodem1421'\n",
      "ser.close()"
     ],
     "language": "python",
     "metadata": {},
     "outputs": [
      {
       "ename": "NameError",
       "evalue": "name 'ser' is not defined",
       "output_type": "pyerr",
       "traceback": [
        "\u001b[0;31m---------------------------------------------------------------------------\u001b[0m\n\u001b[0;31mNameError\u001b[0m                                 Traceback (most recent call last)",
        "\u001b[0;32m<ipython-input-66-e7888b2749bd>\u001b[0m in \u001b[0;36m<module>\u001b[0;34m()\u001b[0m\n\u001b[1;32m      1\u001b[0m \u001b[0mUSB1\u001b[0m \u001b[0;34m=\u001b[0m \u001b[0;34m'/dev/tty.usbmodem1421'\u001b[0m\u001b[0;34m\u001b[0m\u001b[0m\n\u001b[0;32m----> 2\u001b[0;31m \u001b[0mser\u001b[0m\u001b[0;34m.\u001b[0m\u001b[0mclose\u001b[0m\u001b[0;34m(\u001b[0m\u001b[0;34m)\u001b[0m\u001b[0;34m\u001b[0m\u001b[0m\n\u001b[0m",
        "\u001b[0;31mNameError\u001b[0m: name 'ser' is not defined"
       ]
      }
     ],
     "prompt_number": 66
    },
    {
     "cell_type": "code",
     "collapsed": false,
     "input": [
      "main(USB1)"
     ],
     "language": "python",
     "metadata": {},
     "outputs": []
    },
    {
     "cell_type": "code",
     "collapsed": false,
     "input": [],
     "language": "python",
     "metadata": {},
     "outputs": []
    },
    {
     "cell_type": "code",
     "collapsed": false,
     "input": [],
     "language": "python",
     "metadata": {},
     "outputs": []
    }
   ],
   "metadata": {}
  }
 ]
}