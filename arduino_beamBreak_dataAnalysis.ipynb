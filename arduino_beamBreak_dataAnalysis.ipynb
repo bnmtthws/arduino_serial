{
 "metadata": {
  "name": "",
  "signature": "sha256:63028af461ba4d76f2e37ad868fd631a4efaf694debf67565dba4356f83c5d3e"
 },
 "nbformat": 3,
 "nbformat_minor": 0,
 "worksheets": [
  {
   "cells": [
    {
     "cell_type": "markdown",
     "metadata": {},
     "source": [
      "### Beambreak data 10/08/2014"
     ]
    },
    {
     "cell_type": "markdown",
     "metadata": {},
     "source": [
      "first import modules and define plotting environment as external"
     ]
    },
    {
     "cell_type": "code",
     "collapsed": false,
     "input": [
      "import numpy as np\n",
      "import matplotlib as mpl\n",
      "from matplotlib import pyplot as plt\n",
      "import pandas as pd\n",
      "import datetime\n",
      "from dateutil.relativedelta import relativedelta\n",
      "\n",
      "%matplotlib qt"
     ],
     "language": "python",
     "metadata": {},
     "outputs": [],
     "prompt_number": 1
    },
    {
     "cell_type": "markdown",
     "metadata": {},
     "source": [
      "###point to filename"
     ]
    },
    {
     "cell_type": "code",
     "collapsed": false,
     "input": [
      "testfile = '/Users/ben/Dropbox/Vosshall Lab/Ben + Josh/beamBreak-8pin-20141004-184039.csv'"
     ],
     "language": "python",
     "metadata": {},
     "outputs": [],
     "prompt_number": 2
    },
    {
     "cell_type": "markdown",
     "metadata": {},
     "source": [
      "####define the sensor blocks:\n",
      "#####ablock_read and bblock_read must match the number of columns in the raw data file\n",
      "##### ablock and bblock are the sensors that will get plotted in future functions"
     ]
    },
    {
     "cell_type": "code",
     "collapsed": false,
     "input": [
      "ablock_read = ['a0','a1','a2','a3','a4','a5','a6','a7']\n",
      "bblock_read = ['b0','b1','b2','b3','b4','b5','b6','b7']\n",
      "\n",
      "ablock = ['a1','a2','a3','a4','a5','a6','a7']\n",
      "bblock = ['b0','b1','b2','b3','b4','b5','b6','b7']"
     ],
     "language": "python",
     "metadata": {},
     "outputs": [],
     "prompt_number": 3
    },
    {
     "cell_type": "markdown",
     "metadata": {},
     "source": [
      "####read data and convert index to time\n",
      "##### firstDate is the time that you want to subtract from the rest of the timeseries"
     ]
    },
    {
     "cell_type": "code",
     "collapsed": false,
     "input": [
      "data = pd.read_csv(testfile, delimiter=',',names=['time'] + ablock_read + bblock_read ,dtype={'time': object})\n",
      "firstDate = datetime.datetime(2014,10,4,18,42,7)\n",
      "data.index = pd.to_datetime(data['time'],format='%Y%m%d%H%M%S') - firstDate\n",
      "data.index = pd.to_datetime(data.index)"
     ],
     "language": "python",
     "metadata": {},
     "outputs": [],
     "prompt_number": 4
    },
    {
     "cell_type": "markdown",
     "metadata": {},
     "source": [
      "####transform to 'zero' out each channel by subtracting the median value of each channel"
     ]
    },
    {
     "cell_type": "code",
     "collapsed": false,
     "input": [
      "data_transformed = data[ablock + bblock] - data[ablock + bblock].median()\n",
      "data_transformed.index = data.index"
     ],
     "language": "python",
     "metadata": {},
     "outputs": [],
     "prompt_number": 5
    },
    {
     "cell_type": "markdown",
     "metadata": {},
     "source": [
      "####plot raw data - all channels.  'A' block is blue and 'B' block is red"
     ]
    },
    {
     "cell_type": "code",
     "collapsed": false,
     "input": [
      "data[ablock + bblock].plot(legend=False,color=['b']*len(ablock) + ['r']*len(bblock))\n",
      "plt.ylabel('change in signal')\n",
      "plt.xlabel('time')\n",
      "plt.ylim(400,800)"
     ],
     "language": "python",
     "metadata": {},
     "outputs": [
      {
       "metadata": {},
       "output_type": "pyout",
       "prompt_number": 6,
       "text": [
        "(400, 800)"
       ]
      }
     ],
     "prompt_number": 6
    },
    {
     "cell_type": "markdown",
     "metadata": {},
     "source": [
      "#####plot data as change in signal"
     ]
    },
    {
     "cell_type": "code",
     "collapsed": false,
     "input": [
      "data_transformed[ablock + bblock].plot(legend=False,color=['b']*len(ablock) + ['r']*len(bblock))\n",
      "plt.ylabel('change in signal')\n",
      "plt.xlabel('time')"
     ],
     "language": "python",
     "metadata": {},
     "outputs": []
    },
    {
     "cell_type": "markdown",
     "metadata": {},
     "source": [
      "#####plot data for water trap alone"
     ]
    },
    {
     "cell_type": "code",
     "collapsed": false,
     "input": [
      "data_transformed[ablock].plot(legend=False,color=['b']*len(ablock))\n",
      "plt.ylabel('change in signal')\n",
      "plt.xlabel('time')\n",
      "plt.title('water traps')"
     ],
     "language": "python",
     "metadata": {},
     "outputs": []
    },
    {
     "cell_type": "markdown",
     "metadata": {},
     "source": [
      "#####plot data for KCl trap alone"
     ]
    },
    {
     "cell_type": "code",
     "collapsed": false,
     "input": [
      "data_transformed[bblock].plot(legend=False,color=['r']*len(bblock))\n",
      "plt.ylabel('change in signal')\n",
      "plt.xlabel('time')\n",
      "plt.title('KCl traps')"
     ],
     "language": "python",
     "metadata": {},
     "outputs": []
    },
    {
     "cell_type": "markdown",
     "metadata": {},
     "source": [
      "#####plot data for both plots as subplots"
     ]
    },
    {
     "cell_type": "code",
     "collapsed": false,
     "input": [
      "fig, axes = plt.subplots(2,sharex=True,sharey=True)\n",
      "\n",
      "#data_transformed[['a1','a2','a3','a4','a5','a6','a7']].plot(legend=False,color=['b']*7,ax=axes[0])\n",
      "#data_transformed[['b0','b1','b2','b3','b4','b5','b6','b7']].plot(legend=False,color=['r']*8,ax=axes[1])\n",
      "data_transformed[ablock].plot(legend=False,ax=axes[0])\n",
      "axes[0].set_ylabel('change in signal')\n",
      "data_transformed[bblock].plot(legend=False,ax=axes[1])\n",
      "axes[1].set_ylabel('change in signal')\n",
      "plt.xlabel('time')\n",
      "plt.ylim(50,-400)"
     ],
     "language": "python",
     "metadata": {},
     "outputs": [
      {
       "metadata": {},
       "output_type": "pyout",
       "prompt_number": 10,
       "text": [
        "(50, -400)"
       ]
      }
     ],
     "prompt_number": 10
    },
    {
     "cell_type": "code",
     "collapsed": false,
     "input": [],
     "language": "python",
     "metadata": {},
     "outputs": []
    }
   ],
   "metadata": {}
  }
 ]
}