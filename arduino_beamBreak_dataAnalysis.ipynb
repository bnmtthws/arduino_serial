{
 "metadata": {
  "name": "",
  "signature": "sha256:15729117ebb92fbc5ea2df0023bf9537203c73d5441ba6669cae84058af2f47c"
 },
 "nbformat": 3,
 "nbformat_minor": 0,
 "worksheets": [
  {
   "cells": [
    {
     "cell_type": "code",
     "collapsed": false,
     "input": [
      "import numpy as np\n",
      "from matplotlib import pyplot as plt\n",
      "import pandas as pd\n",
      "\n",
      "%matplotlib qt"
     ],
     "language": "python",
     "metadata": {},
     "outputs": [],
     "prompt_number": 7
    },
    {
     "cell_type": "code",
     "collapsed": false,
     "input": [
      "testfile = '/Users/ben/Dropbox/Vosshall Lab/Ben + Josh/Oct 3 - Proxitrench 8C x 2TbeamBreak-16pin-20141003-184756.csv'"
     ],
     "language": "python",
     "metadata": {},
     "outputs": [],
     "prompt_number": 8
    },
    {
     "cell_type": "markdown",
     "metadata": {},
     "source": [
      "####read data and convert index to time"
     ]
    },
    {
     "cell_type": "code",
     "collapsed": false,
     "input": [
      "data = pd.read_csv(testfile, delimiter=',',names=['time','a0','a1','a2','a3','a4','a5','a6','a7','b0','b1','b2','b3','b4','b5','b6','b7'])\n",
      "#data.index = pd.to_datetime(data['time'],format='%H%M%S')"
     ],
     "language": "python",
     "metadata": {},
     "outputs": [],
     "prompt_number": 11
    },
    {
     "cell_type": "markdown",
     "metadata": {},
     "source": [
      "####plot raw data - all channels.  'A' block is blue and 'B' block is red"
     ]
    },
    {
     "cell_type": "code",
     "collapsed": false,
     "input": [
      "data[['a0','a1','a2','a3','a4','a5','a6','a7','b0','b1','b2','b3','b4','b5','b6','b7']].plot(legend=False,color=['b']*8 + ['r']*8)\n",
      "plt.ylim(400,800)"
     ],
     "language": "python",
     "metadata": {},
     "outputs": [
      {
       "metadata": {},
       "output_type": "pyout",
       "prompt_number": 12,
       "text": [
        "(400, 800)"
       ]
      }
     ],
     "prompt_number": 12
    },
    {
     "cell_type": "markdown",
     "metadata": {},
     "source": [
      "####transform to 'zero' out each channel by subtracting the median value of each channel"
     ]
    },
    {
     "cell_type": "code",
     "collapsed": false,
     "input": [
      "data_transformed = data - data.median()"
     ],
     "language": "python",
     "metadata": {},
     "outputs": [],
     "prompt_number": 4
    },
    {
     "cell_type": "markdown",
     "metadata": {},
     "source": [
      "#####plot data as change in signal"
     ]
    },
    {
     "cell_type": "code",
     "collapsed": false,
     "input": [
      "data_transformed[['a1','a2','a3','a4','a5','a6','a7','b0','b1','b2','b3','b4','b5','b6','b7']].plot(legend=False,color=['b']*8 + ['r']*8)\n",
      "plt.ylabel('change in signal')\n",
      "plt.xlabel('time')"
     ],
     "language": "python",
     "metadata": {},
     "outputs": [
      {
       "metadata": {},
       "output_type": "pyout",
       "prompt_number": 6,
       "text": [
        "<matplotlib.text.Text at 0x1197976d8>"
       ]
      }
     ],
     "prompt_number": 6
    },
    {
     "cell_type": "code",
     "collapsed": false,
     "input": [
      "data_transformed[['a1','a2','a3','a4','a5','a6','a7']].plot(legend=False,color=['b']*7)\n",
      "plt.ylabel('change in signal')\n",
      "plt.xlabel('time')\n",
      "plt.title('water traps')"
     ],
     "language": "python",
     "metadata": {},
     "outputs": [
      {
       "metadata": {},
       "output_type": "pyout",
       "prompt_number": 13,
       "text": [
        "<matplotlib.text.Text at 0x11642b828>"
       ]
      }
     ],
     "prompt_number": 13
    },
    {
     "cell_type": "code",
     "collapsed": false,
     "input": [
      "data_transformed[['b0','b1','b2','b3','b4','b5','b6','b7']].plot(legend=False,color=['r']*8)\n",
      "plt.ylabel('change in signal')\n",
      "plt.xlabel('time')\n",
      "plt.title('KCl traps')"
     ],
     "language": "python",
     "metadata": {},
     "outputs": [
      {
       "metadata": {},
       "output_type": "pyout",
       "prompt_number": 15,
       "text": [
        "<matplotlib.text.Text at 0x11a64dbe0>"
       ]
      }
     ],
     "prompt_number": 15
    },
    {
     "cell_type": "code",
     "collapsed": false,
     "input": [],
     "language": "python",
     "metadata": {},
     "outputs": []
    }
   ],
   "metadata": {}
  }
 ]
}