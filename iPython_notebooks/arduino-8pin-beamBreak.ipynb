{
 "metadata": {
  "name": "",
  "signature": "sha256:7e52c57d2d9c0da7c919d826df7b07a6a4fdc313fd227759e9e8b31b0cae79d5"
 },
 "nbformat": 3,
 "nbformat_minor": 0,
 "worksheets": [
  {
   "cells": [
    {
     "cell_type": "markdown",
     "metadata": {},
     "source": [
      "ben matthews september 2014\n",
      "\n",
      "read numeric data from serial port, plot in real-time, and log to file\n",
      "\n",
      "based on code from: http://nbviewer.ipython.org/gist/damontallen/5721739"
     ]
    },
    {
     "cell_type": "code",
     "collapsed": false,
     "input": [
      "import sys, serial\n",
      "import numpy as np\n",
      "import time\n",
      "from collections import deque\n",
      "from matplotlib import pyplot as plt\n",
      "\n",
      "%matplotlib qt"
     ],
     "language": "python",
     "metadata": {},
     "outputs": []
    },
    {
     "cell_type": "code",
     "collapsed": false,
     "input": [
      "# class that holds analog data for N samples\n",
      "class AnalogData:\n",
      "  # constr\n",
      "  def __init__(self, maxLen):\n",
      "    self.a0 = deque([0.0]*maxLen)\n",
      "    self.a1 = deque([0.0]*maxLen)\n",
      "    self.a2 = deque([0.0]*maxLen)\n",
      "    self.a3 = deque([0.0]*maxLen)\n",
      "    self.a4 = deque([0.0]*maxLen)\n",
      "    self.a5 = deque([0.0]*maxLen)\n",
      "    self.a6 = deque([0.0]*maxLen)\n",
      "    self.a7 = deque([0.0]*maxLen)\n",
      "     \n",
      "    self.maxLen = maxLen\n",
      "\n",
      "  # ring buffer\n",
      "  def addToBuf(self, buf, val):\n",
      "    if len(buf) < self.maxLen:\n",
      "      buf.append(val)\n",
      "    else:\n",
      "      buf.pop()\n",
      "      buf.appendleft(val)\n",
      "\n",
      "  # add data\n",
      "  def add(self, data):\n",
      "    assert(len(data) == 6)\n",
      "    self.addToBuf(self.a0, data[0])\n",
      "    self.addToBuf(self.a1, data[1])\n",
      "    self.addToBuf(self.a2, data[2])\n",
      "    self.addToBuf(self.a3, data[3])\n",
      "    self.addToBuf(self.a4, data[4])\n",
      "    self.addToBuf(self.a5, data[5])\n",
      "    self.addToBuf(self.a6, data[6])\n",
      "    self.addToBuf(self.a7, data[7])\n",
      "    \n",
      "# plot class\n",
      "class AnalogPlot:\n",
      "  # constr\n",
      "  def __init__(self, analogData):\n",
      "    # set plot to animated\n",
      "    self.fig, axplt = plt.subplots() #plt.ion() \n",
      "    self.a0line, = axplt.plot(analogData.a0,label='sensor 1')\n",
      "    self.a1line, = axplt.plot(analogData.a1,label='sensor 2')\n",
      "    self.a2line, = axplt.plot(analogData.a2,label='sensor 3')\n",
      "    self.a3line, = axplt.plot(analogData.a3,label='sensor 4')\n",
      "    self.a4line, = axplt.plot(analogData.a4,label='sensor 5')\n",
      "    self.a5line, = axplt.plot(analogData.a5,label='sensor 6')\n",
      "    self.a4line, = axplt.plot(analogData.a6,label='sensor 7')\n",
      "    self.a5line, = axplt.plot(analogData.a7,label='sensor 8')\n",
      "\n",
      "    # dynamic scaling of y axis (10% over maximum data value) ; can also fix at given value\n",
      "    #plt.ylim([0, max(analogData.a1)*1.1])\n",
      "    plt.ylim([0, 1000])\n",
      "    \n",
      "  # update plot\n",
      "  def update(self, analogData):\n",
      "    self.a0line.set_ydata(analogData.a0)\n",
      "    self.a1line.set_ydata(analogData.a1)\n",
      "    self.a2line.set_ydata(analogData.a2)\n",
      "    self.a3line.set_ydata(analogData.a3)\n",
      "    self.a4line.set_ydata(analogData.a4)\n",
      "    self.a5line.set_ydata(analogData.a5)\n",
      "    self.a6line.set_ydata(analogData.a6)\n",
      "    self.a7line.set_ydata(analogData.a7)\n",
      "    \n",
      "    self.fig.canvas.draw()\n",
      "    self.fig.canvas.flush_events()\n",
      "    plt.draw()"
     ],
     "language": "python",
     "metadata": {},
     "outputs": []
    },
    {
     "cell_type": "markdown",
     "metadata": {},
     "source": [
      "main function"
     ]
    },
    {
     "cell_type": "code",
     "collapsed": false,
     "input": [
      "# main() function; strPort is the serial port and numPins is the number of data entries expected\n",
      "def main(strPort, numPins):\n",
      "    \n",
      "    # open output file with date/time embedded in filename; set pathname to whatever you'd like\n",
      "    timestr = time.strftime(\"%Y%m%d-%H%M%S\")\n",
      "    pathname = ''\n",
      "    outFile = open(pathname + 'beamBreak-8pin-' + timestr + '.csv','w')\n",
      "    \n",
      "    analogData = AnalogData(1000)\n",
      "    analogPlot = AnalogPlot(analogData)\n",
      "    print('plotting data...')\n",
      "\n",
      "    connected = False\n",
      "    \n",
      "    # open and flush serial port\n",
      "    ser = serial.Serial(strPort, 38400)\n",
      "    ser.flush()\n",
      "    \n",
      "    for i in range(0,100000):\n",
      "        line = ser.readline().strip()\n",
      "        if len(line.split()) == numPins:\n",
      "            try:\n",
      "                data = [float(val) for val in line.split()]\n",
      "                analogData.add(data)\n",
      "                analogPlot.update(analogData)           \n",
      "                outFile.write(time.strftime(\"%H%M%S,\") + \",\".join(str(e) for e in data) + \"\\n\")\n",
      "            except ValueError:\n",
      "                print \"Not a float\"\n",
      "               \n",
      "    # flush and close serial; close output file\n",
      "    ser.flush()\n",
      "    ser.close()\n",
      "    outFile.close()"
     ],
     "language": "python",
     "metadata": {},
     "outputs": []
    },
    {
     "cell_type": "markdown",
     "metadata": {},
     "source": [
      "Define USB port for communicating with Arduino and call main()"
     ]
    },
    {
     "cell_type": "code",
     "collapsed": false,
     "input": [
      "try:\n",
      "    ser\n",
      "except:\n",
      "    print('serial port not open for business')\n",
      "else:\n",
      "    ser.flush()\n",
      "    ser.close()\n",
      "    \n",
      "USB1 = 'COM5'\n",
      "main(USB1,8)"
     ],
     "language": "python",
     "metadata": {},
     "outputs": []
    },
    {
     "cell_type": "code",
     "collapsed": false,
     "input": [],
     "language": "python",
     "metadata": {},
     "outputs": []
    }
   ],
   "metadata": {}
  }
 ]
}