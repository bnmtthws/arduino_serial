{
 "metadata": {
  "name": "",
  "signature": "sha256:6f1b958f60171fb91b9f08024b91e8e22c1e46b759ed9f4f59c73dbd00209db1"
 },
 "nbformat": 3,
 "nbformat_minor": 0,
 "worksheets": []
}