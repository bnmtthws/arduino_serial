{
 "metadata": {
  "name": "",
  "signature": "sha256:b7c4c3baee2935c6364956c47bc0a3c385aaea4dc07760bd181b7248d125a93f"
 },
 "nbformat": 3,
 "nbformat_minor": 0,
 "worksheets": [
  {
   "cells": [
    {
     "cell_type": "markdown",
     "metadata": {},
     "source": [
      "based on: http://nbviewer.ipython.org/gist/damontallen/5721739"
     ]
    },
    {
     "cell_type": "code",
     "collapsed": false,
     "input": [
      "import sys, serial\n",
      "import numpy as np\n",
      "from time import sleep\n",
      "from collections import deque\n",
      "from matplotlib import pyplot as plt\n",
      "\n",
      "%matplotlib qt"
     ],
     "language": "python",
     "metadata": {},
     "outputs": [],
     "prompt_number": 1
    },
    {
     "cell_type": "code",
     "collapsed": false,
     "input": [
      "# class that holds analog data for N samples\n",
      "class AnalogData:\n",
      "  # constr\n",
      "  def __init__(self, maxLen):\n",
      "    self.ax = deque([0.0]*maxLen)\n",
      "    self.ay = deque([0.0]*maxLen)\n",
      "    self.maxLen = maxLen\n",
      "\n",
      "  # ring buffer\n",
      "  def addToBuf(self, buf, val):\n",
      "    if len(buf) < self.maxLen:\n",
      "      buf.append(val)\n",
      "    else:\n",
      "      buf.pop()\n",
      "      buf.appendleft(val)\n",
      "\n",
      "  # add data\n",
      "  def add(self, data):\n",
      "    assert(len(data) == 1)\n",
      "    self.addToBuf(self.ax, data[0])\n",
      "    self.addToBuf(self.ay, data[0])"
     ],
     "language": "python",
     "metadata": {},
     "outputs": [],
     "prompt_number": 2
    },
    {
     "cell_type": "markdown",
     "metadata": {},
     "source": [
      "AnalogPlot: need to manually set Y-axis min and max (currently 0, 255)\n",
      "Also modified to write to file"
     ]
    },
    {
     "cell_type": "code",
     "collapsed": false,
     "input": [
      "# plot class\n",
      "class AnalogPlot:\n",
      "  # constr\n",
      "  def __init__(self, analogData):\n",
      "    # set plot to animated\n",
      "    self.fig, axplt = plt.subplots() #plt.ion() \n",
      "    self.axline, = axplt.plot(analogData.ax)\n",
      "    self.ayline, = axplt.plot(analogData.ay)\n",
      "    plt.ylim([0, 700])\n",
      "\n",
      "  # update plot\n",
      "  def update(self, analogData):\n",
      "    self.axline.set_ydata(analogData.ax)\n",
      "    self.ayline.set_ydata(analogData.ay)\n",
      "    self.fig.canvas.draw()\n",
      "    self.fig.canvas.flush_events()\n",
      "    plt.draw()"
     ],
     "language": "python",
     "metadata": {},
     "outputs": [],
     "prompt_number": 3
    },
    {
     "cell_type": "code",
     "collapsed": false,
     "input": [
      "# main() function\n",
      "def main(dev):\n",
      "\n",
      "    strPort = dev\n",
      "\n",
      "    # plot parameters\n",
      "   # outFile = open('test.txt','w')\n",
      "    analogData = AnalogData(100)\n",
      "    analogPlot = AnalogPlot(analogData)\n",
      "    print('plotting data...')\n",
      "\n",
      "    connected = False\n",
      "    \n",
      "    # open serial port\n",
      "    ser = serial.Serial(strPort, 115200)\n",
      "    for i in range(0,10000):       \n",
      "        sleep(.01)\n",
      "        line = ser.readline().strip()\n",
      "        data = [float(val) for val in line.split()]\n",
      "\n",
      "        if(len(data) == 1):\n",
      "            analogData.add(data)\n",
      "            analogPlot.update(analogData)\n",
      "   #         outFile.write(data)\n",
      "        \n",
      "        \n",
      "    # close serial\n",
      "    ser.flush()\n",
      "    ser.close()"
     ],
     "language": "python",
     "metadata": {},
     "outputs": [],
     "prompt_number": 4
    },
    {
     "cell_type": "markdown",
     "metadata": {},
     "source": [
      "Define USB port for communicating with Arduino"
     ]
    },
    {
     "cell_type": "code",
     "collapsed": false,
     "input": [
      "USB1 = '/dev/tty.usbmodem1411'\n",
      "ser.close()"
     ],
     "language": "python",
     "metadata": {},
     "outputs": [
      {
       "ename": "NameError",
       "evalue": "name 'ser' is not defined",
       "output_type": "pyerr",
       "traceback": [
        "\u001b[0;31m---------------------------------------------------------------------------\u001b[0m\n\u001b[0;31mNameError\u001b[0m                                 Traceback (most recent call last)",
        "\u001b[0;32m<ipython-input-5-9fcf92a8f7fc>\u001b[0m in \u001b[0;36m<module>\u001b[0;34m()\u001b[0m\n\u001b[1;32m      1\u001b[0m \u001b[0mUSB1\u001b[0m \u001b[0;34m=\u001b[0m \u001b[0;34m'/dev/tty.usbmodem1411'\u001b[0m\u001b[0;34m\u001b[0m\u001b[0m\n\u001b[0;32m----> 2\u001b[0;31m \u001b[0mser\u001b[0m\u001b[0;34m.\u001b[0m\u001b[0mclose\u001b[0m\u001b[0;34m(\u001b[0m\u001b[0;34m)\u001b[0m\u001b[0;34m\u001b[0m\u001b[0m\n\u001b[0m",
        "\u001b[0;31mNameError\u001b[0m: name 'ser' is not defined"
       ]
      }
     ],
     "prompt_number": 5
    },
    {
     "cell_type": "markdown",
     "metadata": {},
     "source": [
      "Begin by calling main()"
     ]
    },
    {
     "cell_type": "code",
     "collapsed": false,
     "input": [
      "main(USB1)"
     ],
     "language": "python",
     "metadata": {},
     "outputs": [
      {
       "output_type": "stream",
       "stream": "stdout",
       "text": [
        "plotting data...\n"
       ]
      },
      {
       "ename": "ValueError",
       "evalue": "could not convert string to float: b'\\xfd\\xf9\\xfd\\xf9\\xff\\xfa\\xfd\\xf8\\xff\\xff\\xfd\\xfb\\xfe\\xfc\\xfe\\xfd\\xfa\\xfd\\xfe\\xfd\\xfa\\xfd\\xfa\\xff\\xfd\\xf9\\xfb\\xfb\\xfc583'",
       "output_type": "pyerr",
       "traceback": [
        "\u001b[0;31m---------------------------------------------------------------------------\u001b[0m\n\u001b[0;31mValueError\u001b[0m                                Traceback (most recent call last)",
        "\u001b[0;32m<ipython-input-6-03955bb7f1be>\u001b[0m in \u001b[0;36m<module>\u001b[0;34m()\u001b[0m\n\u001b[0;32m----> 1\u001b[0;31m \u001b[0mmain\u001b[0m\u001b[0;34m(\u001b[0m\u001b[0mUSB1\u001b[0m\u001b[0;34m)\u001b[0m\u001b[0;34m\u001b[0m\u001b[0m\n\u001b[0m",
        "\u001b[0;32m<ipython-input-4-3beead8d8f87>\u001b[0m in \u001b[0;36mmain\u001b[0;34m(dev)\u001b[0m\n\u001b[1;32m     17\u001b[0m         \u001b[0msleep\u001b[0m\u001b[0;34m(\u001b[0m\u001b[0;36m.01\u001b[0m\u001b[0;34m)\u001b[0m\u001b[0;34m\u001b[0m\u001b[0m\n\u001b[1;32m     18\u001b[0m         \u001b[0mline\u001b[0m \u001b[0;34m=\u001b[0m \u001b[0mser\u001b[0m\u001b[0;34m.\u001b[0m\u001b[0mreadline\u001b[0m\u001b[0;34m(\u001b[0m\u001b[0;34m)\u001b[0m\u001b[0;34m.\u001b[0m\u001b[0mstrip\u001b[0m\u001b[0;34m(\u001b[0m\u001b[0;34m)\u001b[0m\u001b[0;34m\u001b[0m\u001b[0m\n\u001b[0;32m---> 19\u001b[0;31m         \u001b[0mdata\u001b[0m \u001b[0;34m=\u001b[0m \u001b[0;34m[\u001b[0m\u001b[0mfloat\u001b[0m\u001b[0;34m(\u001b[0m\u001b[0mval\u001b[0m\u001b[0;34m)\u001b[0m \u001b[0;32mfor\u001b[0m \u001b[0mval\u001b[0m \u001b[0;32min\u001b[0m \u001b[0mline\u001b[0m\u001b[0;34m.\u001b[0m\u001b[0msplit\u001b[0m\u001b[0;34m(\u001b[0m\u001b[0;34m)\u001b[0m\u001b[0;34m]\u001b[0m\u001b[0;34m\u001b[0m\u001b[0m\n\u001b[0m\u001b[1;32m     20\u001b[0m \u001b[0;34m\u001b[0m\u001b[0m\n\u001b[1;32m     21\u001b[0m         \u001b[0;32mif\u001b[0m\u001b[0;34m(\u001b[0m\u001b[0mlen\u001b[0m\u001b[0;34m(\u001b[0m\u001b[0mdata\u001b[0m\u001b[0;34m)\u001b[0m \u001b[0;34m==\u001b[0m \u001b[0;36m1\u001b[0m\u001b[0;34m)\u001b[0m\u001b[0;34m:\u001b[0m\u001b[0;34m\u001b[0m\u001b[0m\n",
        "\u001b[0;32m<ipython-input-4-3beead8d8f87>\u001b[0m in \u001b[0;36m<listcomp>\u001b[0;34m(.0)\u001b[0m\n\u001b[1;32m     17\u001b[0m         \u001b[0msleep\u001b[0m\u001b[0;34m(\u001b[0m\u001b[0;36m.01\u001b[0m\u001b[0;34m)\u001b[0m\u001b[0;34m\u001b[0m\u001b[0m\n\u001b[1;32m     18\u001b[0m         \u001b[0mline\u001b[0m \u001b[0;34m=\u001b[0m \u001b[0mser\u001b[0m\u001b[0;34m.\u001b[0m\u001b[0mreadline\u001b[0m\u001b[0;34m(\u001b[0m\u001b[0;34m)\u001b[0m\u001b[0;34m.\u001b[0m\u001b[0mstrip\u001b[0m\u001b[0;34m(\u001b[0m\u001b[0;34m)\u001b[0m\u001b[0;34m\u001b[0m\u001b[0m\n\u001b[0;32m---> 19\u001b[0;31m         \u001b[0mdata\u001b[0m \u001b[0;34m=\u001b[0m \u001b[0;34m[\u001b[0m\u001b[0mfloat\u001b[0m\u001b[0;34m(\u001b[0m\u001b[0mval\u001b[0m\u001b[0;34m)\u001b[0m \u001b[0;32mfor\u001b[0m \u001b[0mval\u001b[0m \u001b[0;32min\u001b[0m \u001b[0mline\u001b[0m\u001b[0;34m.\u001b[0m\u001b[0msplit\u001b[0m\u001b[0;34m(\u001b[0m\u001b[0;34m)\u001b[0m\u001b[0;34m]\u001b[0m\u001b[0;34m\u001b[0m\u001b[0m\n\u001b[0m\u001b[1;32m     20\u001b[0m \u001b[0;34m\u001b[0m\u001b[0m\n\u001b[1;32m     21\u001b[0m         \u001b[0;32mif\u001b[0m\u001b[0;34m(\u001b[0m\u001b[0mlen\u001b[0m\u001b[0;34m(\u001b[0m\u001b[0mdata\u001b[0m\u001b[0;34m)\u001b[0m \u001b[0;34m==\u001b[0m \u001b[0;36m1\u001b[0m\u001b[0;34m)\u001b[0m\u001b[0;34m:\u001b[0m\u001b[0;34m\u001b[0m\u001b[0m\n",
        "\u001b[0;31mValueError\u001b[0m: could not convert string to float: b'\\xfd\\xf9\\xfd\\xf9\\xff\\xfa\\xfd\\xf8\\xff\\xff\\xfd\\xfb\\xfe\\xfc\\xfe\\xfd\\xfa\\xfd\\xfe\\xfd\\xfa\\xfd\\xfa\\xff\\xfd\\xf9\\xfb\\xfb\\xfc583'"
       ]
      }
     ],
     "prompt_number": 6
    },
    {
     "cell_type": "code",
     "collapsed": false,
     "input": [],
     "language": "python",
     "metadata": {},
     "outputs": []
    },
    {
     "cell_type": "code",
     "collapsed": false,
     "input": [],
     "language": "python",
     "metadata": {},
     "outputs": []
    }
   ],
   "metadata": {}
  }
 ]
}