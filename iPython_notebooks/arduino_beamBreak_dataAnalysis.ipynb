{
 "metadata": {
  "name": "",
  "signature": "sha256:debbabc358dcfc7ecc5665d7d8fa4c746d34ebad405d27fc270cca5da7de63dc"
 },
 "nbformat": 3,
 "nbformat_minor": 0,
 "worksheets": [
  {
   "cells": [
    {
     "cell_type": "code",
     "collapsed": false,
     "input": [
      "import numpy as np\n",
      "from matplotlib import pyplot as plt\n",
      "import pandas as pd\n",
      "\n",
      "%matplotlib qt"
     ],
     "language": "python",
     "metadata": {},
     "outputs": [],
     "prompt_number": 44
    },
    {
     "cell_type": "code",
     "collapsed": false,
     "input": [
      "testfile = '/Users/ben/Dropbox/Vosshall Lab/Ben + Josh/Oct 3 - Proxitrench 8C x 2TbeamBreak-16pin-20141003-034126.csv'"
     ],
     "language": "python",
     "metadata": {},
     "outputs": [],
     "prompt_number": 45
    },
    {
     "cell_type": "markdown",
     "metadata": {},
     "source": [
      "####read data and convert index to time"
     ]
    },
    {
     "cell_type": "code",
     "collapsed": false,
     "input": [
      "data = pd.read_csv(testfile, delimiter=',',names=['time','a0','a1','a2','a3','a4','a5','a6','a7','b0','b1','b2','b3','b4','b5','b6','b7'])\n",
      "data.index = pd.to_datetime(data['time'],format='%H%M%S')"
     ],
     "language": "python",
     "metadata": {},
     "outputs": [],
     "prompt_number": 46
    },
    {
     "cell_type": "markdown",
     "metadata": {},
     "source": [
      "####plot raw data - all channels.  'A' block is blue and 'B' block is red"
     ]
    },
    {
     "cell_type": "code",
     "collapsed": false,
     "input": [
      "data[['a0','a1','a2','a3','a4','a5','a6','a7','b0','b1','b2','b3','b4','b5','b6','b7']].plot(legend=False,color=['b']*8 + ['r']*8)\n",
      "plt.ylim(400,800)"
     ],
     "language": "python",
     "metadata": {},
     "outputs": []
    },
    {
     "cell_type": "markdown",
     "metadata": {},
     "source": [
      "####transform to 'zero' out each channel by subtracting the median value of each channel"
     ]
    },
    {
     "cell_type": "code",
     "collapsed": false,
     "input": [
      "data_transformed = data - data.median()"
     ],
     "language": "python",
     "metadata": {},
     "outputs": [],
     "prompt_number": 47
    },
    {
     "cell_type": "markdown",
     "metadata": {},
     "source": [
      "#####plot data as change in signal"
     ]
    },
    {
     "cell_type": "code",
     "collapsed": false,
     "input": [
      "data_transformed[['a0','a1','a2','a3','a4','a5','a6','a7','b0','b1','b2','b3','b4','b5','b6','b7']].plot(legend=False,color=['b']*8 + ['r']*8)\n",
      "plt.ylabel('change in signal')\n",
      "plt.xlabel('time')"
     ],
     "language": "python",
     "metadata": {},
     "outputs": [
      {
       "metadata": {},
       "output_type": "pyout",
       "prompt_number": 48,
       "text": [
        "<matplotlib.text.Text at 0x173c6ed30>"
       ]
      }
     ],
     "prompt_number": 48
    },
    {
     "cell_type": "code",
     "collapsed": false,
     "input": [],
     "language": "python",
     "metadata": {},
     "outputs": []
    }
   ],
   "metadata": {}
  }
 ]
}