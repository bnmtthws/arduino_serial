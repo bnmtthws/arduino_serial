{
 "metadata": {
  "name": "",
  "signature": "sha256:f1196cebb9459985d44bdc756408da69f632d81d54233f61689180e059d7f63d"
 },
 "nbformat": 3,
 "nbformat_minor": 0,
 "worksheets": [
  {
   "cells": [
    {
     "cell_type": "code",
     "collapsed": false,
     "input": [
      "import numpy as np\n",
      "import matplotlib as mpl\n",
      "from matplotlib import pyplot as plt\n",
      "import pandas as pd\n",
      "import datetime\n",
      "from dateutil.relativedelta import relativedelta\n",
      "\n",
      "%matplotlib qt"
     ],
     "language": "python",
     "metadata": {},
     "outputs": [],
     "prompt_number": 1
    },
    {
     "cell_type": "code",
     "collapsed": false,
     "input": [
      "testfile = '/Users/ben/Dropbox/Vosshall Lab/Ben + Josh/beamBreak-8pin-20141004-184039.csv'"
     ],
     "language": "python",
     "metadata": {},
     "outputs": [],
     "prompt_number": 2
    },
    {
     "cell_type": "markdown",
     "metadata": {},
     "source": [
      "####define the sensor blocks"
     ]
    },
    {
     "cell_type": "code",
     "collapsed": false,
     "input": [
      "ablock_read = ['a0','a1','a2','a3','a4','a5','a6','a7']\n",
      "bblock_read = ['b0','b1','b2','b3','b4','b5','b6','b7']\n",
      "\n",
      "ablock = ['a1','a2','a3','a4','a5','a6','a7']\n",
      "bblock = ['b0','b1','b2','b3','b4','b5','b6','b7']"
     ],
     "language": "python",
     "metadata": {},
     "outputs": [],
     "prompt_number": 48
    },
    {
     "cell_type": "heading",
     "level": 4,
     "metadata": {},
     "source": [
      "####read data and convert index to time"
     ]
    },
    {
     "cell_type": "code",
     "collapsed": false,
     "input": [
      "data = pd.read_csv(testfile, delimiter=',',names=['time'] + ablock_read + bblock_read ,dtype={'time': object})\n",
      "firstDate = datetime.datetime(2014,10,4,18,42,7)\n",
      "data.index = pd.to_datetime(data['time'],format='%Y%m%d%H%M%S') - firstDate\n",
      "data.index = pd.to_datetime(data.index)"
     ],
     "language": "python",
     "metadata": {},
     "outputs": []
    },
    {
     "cell_type": "markdown",
     "metadata": {},
     "source": [
      "####transform to 'zero' out each channel by subtracting the median value of each channel"
     ]
    },
    {
     "cell_type": "code",
     "collapsed": false,
     "input": [
      "data_transformed = data[ablock + bblock] - data[ablock + bblock].median()\n",
      "data_transformed.index = data.index"
     ],
     "language": "python",
     "metadata": {},
     "outputs": [],
     "prompt_number": 49
    },
    {
     "cell_type": "markdown",
     "metadata": {},
     "source": [
      "####plot raw data - all channels.  'A' block is blue and 'B' block is red"
     ]
    },
    {
     "cell_type": "code",
     "collapsed": false,
     "input": [
      "data[ablock + bblock].plot(legend=False,color=['b']*len(ablock) + ['r']*len(bblock))\n",
      "plt.ylabel('change in signal')\n",
      "plt.xlabel('time')\n",
      "plt.ylim(400,800)"
     ],
     "language": "python",
     "metadata": {},
     "outputs": [
      {
       "metadata": {},
       "output_type": "pyout",
       "prompt_number": 50,
       "text": [
        "(400, 800)"
       ]
      }
     ],
     "prompt_number": 50
    },
    {
     "cell_type": "markdown",
     "metadata": {},
     "source": [
      "#####plot data as change in signal"
     ]
    },
    {
     "cell_type": "code",
     "collapsed": false,
     "input": [
      "data_transformed[ablock + bblock].plot(legend=False,color=['b']*len(ablock) + ['r']*len(bblock))\n",
      "plt.ylabel('change in signal')\n",
      "plt.xlabel('time')"
     ],
     "language": "python",
     "metadata": {},
     "outputs": []
    },
    {
     "cell_type": "markdown",
     "metadata": {},
     "source": [
      "#####plot data for water trap alone"
     ]
    },
    {
     "cell_type": "code",
     "collapsed": false,
     "input": [
      "data_transformed[ablock].plot(legend=False,color=['b']*len(ablock))\n",
      "plt.ylabel('change in signal')\n",
      "plt.xlabel('time')\n",
      "plt.title('water traps')"
     ],
     "language": "python",
     "metadata": {},
     "outputs": []
    },
    {
     "cell_type": "markdown",
     "metadata": {},
     "source": [
      "#####plot data for KCl trap alone"
     ]
    },
    {
     "cell_type": "code",
     "collapsed": false,
     "input": [
      "data_transformed[bblock].plot(legend=False,color=['r']*len(bblock))\n",
      "plt.ylabel('change in signal')\n",
      "plt.xlabel('time')\n",
      "plt.title('KCl traps')"
     ],
     "language": "python",
     "metadata": {},
     "outputs": []
    },
    {
     "cell_type": "markdown",
     "metadata": {},
     "source": [
      "#####plot data as subplots"
     ]
    },
    {
     "cell_type": "code",
     "collapsed": false,
     "input": [
      "fig, axes = plt.subplots(2,sharex=True,sharey=True)\n",
      "\n",
      "#data_transformed[['a1','a2','a3','a4','a5','a6','a7']].plot(legend=False,color=['b']*7,ax=axes[0])\n",
      "#data_transformed[['b0','b1','b2','b3','b4','b5','b6','b7']].plot(legend=False,color=['r']*8,ax=axes[1])\n",
      "data_transformed[ablock].plot(legend=False,ax=axes[0])\n",
      "axes[0].set_ylabel('change in signal')\n",
      "data_transformed[bblock].plot(legend=False,ax=axes[1])\n",
      "axes[1].set_ylabel('change in signal')\n",
      "plt.xlabel('time')\n",
      "fig.autofmt_xdate()\n",
      "axes[1].fmt_xdata = mpl.dates.DateFormatter('%H:%M:%S') \n",
      "plt.ylim(50,-400)"
     ],
     "language": "python",
     "metadata": {},
     "outputs": [
      {
       "metadata": {},
       "output_type": "pyout",
       "prompt_number": 40,
       "text": [
        "(50, -400)"
       ]
      }
     ],
     "prompt_number": 40
    },
    {
     "cell_type": "code",
     "collapsed": false,
     "input": [
      "firstDate = pd.Timestamp(datetime(years=2014,months=10,days=4,hours=18,minutes=42,seconds=7))\n",
      "data.index[0] - firstDate"
     ],
     "language": "python",
     "metadata": {},
     "outputs": [
      {
       "ename": "NameError",
       "evalue": "name 'datetime' is not defined",
       "output_type": "pyerr",
       "traceback": [
        "\u001b[0;31m---------------------------------------------------------------------------\u001b[0m\n\u001b[0;31mNameError\u001b[0m                                 Traceback (most recent call last)",
        "\u001b[0;32m<ipython-input-36-0de62b01f3eb>\u001b[0m in \u001b[0;36m<module>\u001b[0;34m()\u001b[0m\n\u001b[0;32m----> 1\u001b[0;31m \u001b[0mfirstDate\u001b[0m \u001b[0;34m=\u001b[0m \u001b[0mpd\u001b[0m\u001b[0;34m.\u001b[0m\u001b[0mTimestamp\u001b[0m\u001b[0;34m(\u001b[0m\u001b[0mdatetime\u001b[0m\u001b[0;34m(\u001b[0m\u001b[0myears\u001b[0m\u001b[0;34m=\u001b[0m\u001b[0;36m2014\u001b[0m\u001b[0;34m,\u001b[0m\u001b[0mmonths\u001b[0m\u001b[0;34m=\u001b[0m\u001b[0;36m10\u001b[0m\u001b[0;34m,\u001b[0m\u001b[0mdays\u001b[0m\u001b[0;34m=\u001b[0m\u001b[0;36m4\u001b[0m\u001b[0;34m,\u001b[0m\u001b[0mhours\u001b[0m\u001b[0;34m=\u001b[0m\u001b[0;36m18\u001b[0m\u001b[0;34m,\u001b[0m\u001b[0mminutes\u001b[0m\u001b[0;34m=\u001b[0m\u001b[0;36m42\u001b[0m\u001b[0;34m,\u001b[0m\u001b[0mseconds\u001b[0m\u001b[0;34m=\u001b[0m\u001b[0;36m7\u001b[0m\u001b[0;34m)\u001b[0m\u001b[0;34m)\u001b[0m\u001b[0;34m\u001b[0m\u001b[0m\n\u001b[0m\u001b[1;32m      2\u001b[0m \u001b[0mdata\u001b[0m\u001b[0;34m.\u001b[0m\u001b[0mindex\u001b[0m\u001b[0;34m[\u001b[0m\u001b[0;36m0\u001b[0m\u001b[0;34m]\u001b[0m \u001b[0;34m-\u001b[0m \u001b[0mfirstDate\u001b[0m\u001b[0;34m\u001b[0m\u001b[0m\n",
        "\u001b[0;31mNameError\u001b[0m: name 'datetime' is not defined"
       ]
      }
     ],
     "prompt_number": 36
    },
    {
     "cell_type": "code",
     "collapsed": false,
     "input": [
      "data.index"
     ],
     "language": "python",
     "metadata": {},
     "outputs": [
      {
       "metadata": {},
       "output_type": "pyout",
       "prompt_number": 11,
       "text": [
        "Index(['-1 day, 23:58:34', '-1 day, 23:58:34', '-1 day, 23:58:34', '-1 day, 23:58:34', '-1 day, 23:58:34', '-1 day, 23:58:34', '-1 day, 23:58:34', '-1 day, 23:58:34', '-1 day, 23:58:35', '-1 day, 23:58:35', '-1 day, 23:58:35', '-1 day, 23:58:35', '-1 day, 23:58:35', '-1 day, 23:58:35', '-1 day, 23:58:35', '-1 day, 23:58:35', '-1 day, 23:58:35', '-1 day, 23:58:35', '-1 day, 23:58:35', '-1 day, 23:58:35', '-1 day, 23:58:35', '-1 day, 23:58:35', '-1 day, 23:58:36', '-1 day, 23:58:36', '-1 day, 23:58:36', '-1 day, 23:58:36', '-1 day, 23:58:36', '-1 day, 23:58:36', '-1 day, 23:58:36', '-1 day, 23:58:36', '-1 day, 23:58:36', '-1 day, 23:58:36', '-1 day, 23:58:36', '-1 day, 23:58:36', '-1 day, 23:58:36', '-1 day, 23:58:37', '-1 day, 23:58:37', '-1 day, 23:58:37', '-1 day, 23:58:37', '-1 day, 23:58:37', '-1 day, 23:58:37', '-1 day, 23:58:37', '-1 day, 23:58:37', '-1 day, 23:58:37', '-1 day, 23:58:37', '-1 day, 23:58:37', '-1 day, 23:58:37', '-1 day, 23:58:37', '-1 day, 23:58:38', '-1 day, 23:58:38', '-1 day, 23:58:38', '-1 day, 23:58:38', '-1 day, 23:58:38', '-1 day, 23:58:38', '-1 day, 23:58:38', '-1 day, 23:58:38', '-1 day, 23:58:38', '-1 day, 23:58:38', '-1 day, 23:58:38', '-1 day, 23:58:38', '-1 day, 23:58:38', '-1 day, 23:58:39', '-1 day, 23:58:39', '-1 day, 23:58:39', '-1 day, 23:58:39', '-1 day, 23:58:39', '-1 day, 23:58:39', '-1 day, 23:58:39', '-1 day, 23:58:39', '-1 day, 23:58:39', '-1 day, 23:58:39', '-1 day, 23:58:39', '-1 day, 23:58:39', '-1 day, 23:58:39', '-1 day, 23:58:40', '-1 day, 23:58:40', '-1 day, 23:58:40', '-1 day, 23:58:40', '-1 day, 23:58:40', '-1 day, 23:58:40', '-1 day, 23:58:40', '-1 day, 23:58:40', '-1 day, 23:58:40', '-1 day, 23:58:40', '-1 day, 23:58:40', '-1 day, 23:58:40', '-1 day, 23:58:40', '-1 day, 23:58:40', '-1 day, 23:58:41', '-1 day, 23:58:41', '-1 day, 23:58:41', '-1 day, 23:58:41', '-1 day, 23:58:41', '-1 day, 23:58:41', '-1 day, 23:58:41', '-1 day, 23:58:41', '-1 day, 23:58:41', '-1 day, 23:58:41', '-1 day, 23:58:41', '-1 day, 23:58:41', ...], dtype='object')"
       ]
      }
     ],
     "prompt_number": 11
    },
    {
     "cell_type": "code",
     "collapsed": false,
     "input": [
      "data2 = data\n",
      "firstDate = pd.Timestamp(datetime.datetime(2014,10,4,18,42,7))\n",
      "data2.index = [str(idx - firstDate) for idx in data2.index]"
     ],
     "language": "python",
     "metadata": {},
     "outputs": [],
     "prompt_number": 15
    },
    {
     "cell_type": "code",
     "collapsed": false,
     "input": [
      "temp = data.index"
     ],
     "language": "python",
     "metadata": {},
     "outputs": [],
     "prompt_number": 30
    },
    {
     "cell_type": "code",
     "collapsed": false,
     "input": [
      "temp2 = [i - pd.Timestamp(datetime.datetime(2014,10,4,18,42,7)) for i in temp]"
     ],
     "language": "python",
     "metadata": {},
     "outputs": [],
     "prompt_number": 31
    },
    {
     "cell_type": "code",
     "collapsed": false,
     "input": [
      "pd.tseries."
     ],
     "language": "python",
     "metadata": {},
     "outputs": [],
     "prompt_number": 35
    },
    {
     "cell_type": "code",
     "collapsed": false,
     "input": [],
     "language": "python",
     "metadata": {},
     "outputs": [],
     "prompt_number": 47
    },
    {
     "cell_type": "code",
     "collapsed": false,
     "input": [],
     "language": "python",
     "metadata": {},
     "outputs": []
    }
   ],
   "metadata": {}
  }
 ]
}