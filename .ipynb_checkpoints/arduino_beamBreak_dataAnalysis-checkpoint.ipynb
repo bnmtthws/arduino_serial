{
 "metadata": {
  "name": "",
  "signature": "sha256:b2a88160a2ff0e6b5ba00da81f56cea97b13d5517a09b601f537af3daf7f2aa1"
 },
 "nbformat": 3,
 "nbformat_minor": 0,
 "worksheets": [
  {
   "cells": [
    {
     "cell_type": "markdown",
     "metadata": {},
     "source": [
      "### Beambreak data 10/08/2014"
     ]
    },
    {
     "cell_type": "markdown",
     "metadata": {},
     "source": [
      "first import modules and define plotting environment as external"
     ]
    },
    {
     "cell_type": "code",
     "collapsed": false,
     "input": [
      "import numpy as np\n",
      "import matplotlib as mpl\n",
      "from matplotlib import pyplot as plt\n",
      "import pandas as pd\n",
      "import datetime\n",
      "from dateutil.relativedelta import relativedelta\n",
      "\n",
      "%matplotlib qt"
     ],
     "language": "python",
     "metadata": {},
     "outputs": [],
     "prompt_number": 1
    },
    {
     "cell_type": "markdown",
     "metadata": {},
     "source": [
      "###point to filename"
     ]
    },
    {
     "cell_type": "code",
     "collapsed": false,
     "input": [
      "testfile = '/Users/ben/Dropbox/Ben + Josh/beamBreak-8pin-20141004-184039.csv'"
     ],
     "language": "python",
     "metadata": {},
     "outputs": [],
     "prompt_number": 5
    },
    {
     "cell_type": "markdown",
     "metadata": {},
     "source": [
      "####define the sensor blocks:\n",
      "#####ablock_read and bblock_read must match the number of columns in the raw data file\n",
      "##### ablock and bblock are the sensors that will get plotted in future functions"
     ]
    },
    {
     "cell_type": "code",
     "collapsed": false,
     "input": [
      "ablock_read = ['a0','a1','a2','a3','a4','a5','a6','a7']\n",
      "bblock_read = ['b0','b1','b2','b3','b4','b5','b6','b7']\n",
      "\n",
      "ablock = ['a1','a2','a3','a4','a5','a6','a7']\n",
      "bblock = ['b0','b1','b2','b3','b4','b5','b6','b7']"
     ],
     "language": "python",
     "metadata": {},
     "outputs": [],
     "prompt_number": 6
    },
    {
     "cell_type": "markdown",
     "metadata": {},
     "source": [
      "####read data and convert index to time\n",
      "##### firstDate is the time that you want to subtract from the rest of the timeseries"
     ]
    },
    {
     "cell_type": "code",
     "collapsed": false,
     "input": [
      "data = pd.read_csv(testfile, delimiter=',',names=['time'] + ablock_read + bblock_read ,dtype={'time': object})\n",
      "firstDate = datetime.datetime(2014,10,4,18,42,7)\n",
      "data.index = pd.to_datetime(data['time'],format='%Y%m%d%H%M%S%f') - firstDate\n",
      "data.index = pd.to_datetime(data.index)"
     ],
     "language": "python",
     "metadata": {},
     "outputs": [
      {
       "ename": "TypeError",
       "evalue": "Argument 'values' has incorrect type (expected numpy.ndarray, got Index)",
       "output_type": "pyerr",
       "traceback": [
        "\u001b[0;31m---------------------------------------------------------------------------\u001b[0m\n\u001b[0;31mTypeError\u001b[0m                                 Traceback (most recent call last)",
        "\u001b[0;32m<ipython-input-9-ec65aa608ba8>\u001b[0m in \u001b[0;36m<module>\u001b[0;34m()\u001b[0m\n\u001b[1;32m      2\u001b[0m \u001b[0mfirstDate\u001b[0m \u001b[0;34m=\u001b[0m \u001b[0mdatetime\u001b[0m\u001b[0;34m.\u001b[0m\u001b[0mdatetime\u001b[0m\u001b[0;34m(\u001b[0m\u001b[0;36m2014\u001b[0m\u001b[0;34m,\u001b[0m\u001b[0;36m10\u001b[0m\u001b[0;34m,\u001b[0m\u001b[0;36m4\u001b[0m\u001b[0;34m,\u001b[0m\u001b[0;36m18\u001b[0m\u001b[0;34m,\u001b[0m\u001b[0;36m42\u001b[0m\u001b[0;34m,\u001b[0m\u001b[0;36m7\u001b[0m\u001b[0;34m)\u001b[0m\u001b[0;34m\u001b[0m\u001b[0m\n\u001b[1;32m      3\u001b[0m \u001b[0mdata\u001b[0m\u001b[0;34m.\u001b[0m\u001b[0mindex\u001b[0m \u001b[0;34m=\u001b[0m \u001b[0mpd\u001b[0m\u001b[0;34m.\u001b[0m\u001b[0mto_datetime\u001b[0m\u001b[0;34m(\u001b[0m\u001b[0mdata\u001b[0m\u001b[0;34m[\u001b[0m\u001b[0;34m'time'\u001b[0m\u001b[0;34m]\u001b[0m\u001b[0;34m,\u001b[0m\u001b[0mformat\u001b[0m\u001b[0;34m=\u001b[0m\u001b[0;34m'%Y%m%d%H%M%S%f'\u001b[0m\u001b[0;34m)\u001b[0m \u001b[0;34m-\u001b[0m \u001b[0mfirstDate\u001b[0m\u001b[0;34m\u001b[0m\u001b[0m\n\u001b[0;32m----> 4\u001b[0;31m \u001b[0mdata\u001b[0m\u001b[0;34m.\u001b[0m\u001b[0mindex\u001b[0m \u001b[0;34m=\u001b[0m \u001b[0mpd\u001b[0m\u001b[0;34m.\u001b[0m\u001b[0mto_datetime\u001b[0m\u001b[0;34m(\u001b[0m\u001b[0mdata\u001b[0m\u001b[0;34m.\u001b[0m\u001b[0mindex\u001b[0m\u001b[0;34m)\u001b[0m\u001b[0;34m\u001b[0m\u001b[0m\n\u001b[0m",
        "\u001b[0;32m/Users/ben/miniconda3/lib/python3.4/site-packages/pandas/tseries/tools.py\u001b[0m in \u001b[0;36mto_datetime\u001b[0;34m(arg, errors, dayfirst, utc, box, format, coerce, unit, infer_datetime_format)\u001b[0m\n\u001b[1;32m    307\u001b[0m         \u001b[0;32mreturn\u001b[0m \u001b[0mSeries\u001b[0m\u001b[0;34m(\u001b[0m\u001b[0mvalues\u001b[0m\u001b[0;34m,\u001b[0m \u001b[0mindex\u001b[0m\u001b[0;34m=\u001b[0m\u001b[0marg\u001b[0m\u001b[0;34m.\u001b[0m\u001b[0mindex\u001b[0m\u001b[0;34m,\u001b[0m \u001b[0mname\u001b[0m\u001b[0;34m=\u001b[0m\u001b[0marg\u001b[0m\u001b[0;34m.\u001b[0m\u001b[0mname\u001b[0m\u001b[0;34m)\u001b[0m\u001b[0;34m\u001b[0m\u001b[0m\n\u001b[1;32m    308\u001b[0m     \u001b[0;32melif\u001b[0m \u001b[0mcom\u001b[0m\u001b[0;34m.\u001b[0m\u001b[0mis_list_like\u001b[0m\u001b[0;34m(\u001b[0m\u001b[0marg\u001b[0m\u001b[0;34m)\u001b[0m\u001b[0;34m:\u001b[0m\u001b[0;34m\u001b[0m\u001b[0m\n\u001b[0;32m--> 309\u001b[0;31m         \u001b[0;32mreturn\u001b[0m \u001b[0m_convert_listlike\u001b[0m\u001b[0;34m(\u001b[0m\u001b[0marg\u001b[0m\u001b[0;34m,\u001b[0m \u001b[0mbox\u001b[0m\u001b[0;34m,\u001b[0m \u001b[0mformat\u001b[0m\u001b[0;34m)\u001b[0m\u001b[0;34m\u001b[0m\u001b[0m\n\u001b[0m\u001b[1;32m    310\u001b[0m \u001b[0;34m\u001b[0m\u001b[0m\n\u001b[1;32m    311\u001b[0m     \u001b[0;32mreturn\u001b[0m \u001b[0m_convert_listlike\u001b[0m\u001b[0;34m(\u001b[0m\u001b[0mnp\u001b[0m\u001b[0;34m.\u001b[0m\u001b[0marray\u001b[0m\u001b[0;34m(\u001b[0m\u001b[0;34m[\u001b[0m \u001b[0marg\u001b[0m \u001b[0;34m]\u001b[0m\u001b[0;34m)\u001b[0m\u001b[0;34m,\u001b[0m \u001b[0mbox\u001b[0m\u001b[0;34m,\u001b[0m \u001b[0mformat\u001b[0m\u001b[0;34m)\u001b[0m\u001b[0;34m[\u001b[0m\u001b[0;36m0\u001b[0m\u001b[0;34m]\u001b[0m\u001b[0;34m\u001b[0m\u001b[0m\n",
        "\u001b[0;32m/Users/ben/miniconda3/lib/python3.4/site-packages/pandas/tseries/tools.py\u001b[0m in \u001b[0;36m_convert_listlike\u001b[0;34m(arg, box, format)\u001b[0m\n\u001b[1;32m    286\u001b[0m                 result = tslib.array_to_datetime(arg, raise_=errors == 'raise',\n\u001b[1;32m    287\u001b[0m                                                  \u001b[0mutc\u001b[0m\u001b[0;34m=\u001b[0m\u001b[0mutc\u001b[0m\u001b[0;34m,\u001b[0m \u001b[0mdayfirst\u001b[0m\u001b[0;34m=\u001b[0m\u001b[0mdayfirst\u001b[0m\u001b[0;34m,\u001b[0m\u001b[0;34m\u001b[0m\u001b[0m\n\u001b[0;32m--> 288\u001b[0;31m                                                  coerce=coerce, unit=unit)\n\u001b[0m\u001b[1;32m    289\u001b[0m \u001b[0;34m\u001b[0m\u001b[0m\n\u001b[1;32m    290\u001b[0m             \u001b[0;32mif\u001b[0m \u001b[0mcom\u001b[0m\u001b[0;34m.\u001b[0m\u001b[0mis_datetime64_dtype\u001b[0m\u001b[0;34m(\u001b[0m\u001b[0mresult\u001b[0m\u001b[0;34m)\u001b[0m \u001b[0;32mand\u001b[0m \u001b[0mbox\u001b[0m\u001b[0;34m:\u001b[0m\u001b[0;34m\u001b[0m\u001b[0m\n",
        "\u001b[0;31mTypeError\u001b[0m: Argument 'values' has incorrect type (expected numpy.ndarray, got Index)"
       ]
      }
     ],
     "prompt_number": 9
    },
    {
     "cell_type": "markdown",
     "metadata": {},
     "source": [
      "####transform to 'zero' out each channel by subtracting the median value of each channel"
     ]
    },
    {
     "cell_type": "code",
     "collapsed": false,
     "input": [
      "data_transformed = data[ablock + bblock] - data[ablock + bblock].median()\n",
      "data_transformed.index = data.index"
     ],
     "language": "python",
     "metadata": {},
     "outputs": [],
     "prompt_number": 32
    },
    {
     "cell_type": "markdown",
     "metadata": {},
     "source": [
      "####plot raw data - all channels.  'A' block is blue and 'B' block is red"
     ]
    },
    {
     "cell_type": "code",
     "collapsed": false,
     "input": [
      "data[ablock + bblock].plot(legend=False,color=['b']*len(ablock) + ['r']*len(bblock))\n",
      "plt.ylabel('change in signal')\n",
      "plt.xlabel('time')\n",
      "plt.ylim(400,800)"
     ],
     "language": "python",
     "metadata": {},
     "outputs": []
    },
    {
     "cell_type": "markdown",
     "metadata": {},
     "source": [
      "#### use this to reindex the data_transformed matrix"
     ]
    },
    {
     "cell_type": "code",
     "collapsed": false,
     "input": [
      "data_transformed.time = data_transformed.index\n",
      "data_transformed.index = list(range(len(data_transformed)))"
     ],
     "language": "python",
     "metadata": {},
     "outputs": [],
     "prompt_number": 34
    },
    {
     "cell_type": "markdown",
     "metadata": {},
     "source": [
      "#####plot data as change in signal"
     ]
    },
    {
     "cell_type": "code",
     "collapsed": false,
     "input": [
      "fig = data_transformed[ablock + bblock].plot(legend=False,color=['b']*len(ablock) + ['r']*len(bblock))\n",
      "plt.ylabel('change in signal')\n",
      "plt.xlabel('time')\n",
      "fig.set_xticklabels(data_transformed.time,rotation=45)\n"
     ],
     "language": "python",
     "metadata": {},
     "outputs": [
      {
       "metadata": {},
       "output_type": "pyout",
       "prompt_number": 40,
       "text": [
        "[<matplotlib.text.Text at 0x27f09dc50>,\n",
        " <matplotlib.text.Text at 0x27f097f98>,\n",
        " <matplotlib.text.Text at 0x2aed77048>,\n",
        " <matplotlib.text.Text at 0x2aed77a90>,\n",
        " <matplotlib.text.Text at 0x2aed7b518>,\n",
        " <matplotlib.text.Text at 0x2aed7bef0>,\n",
        " <matplotlib.text.Text at 0x2a5a0f978>,\n",
        " <matplotlib.text.Text at 0x2a5a13400>,\n",
        " <matplotlib.text.Text at 0x2a5a13e48>,\n",
        " <matplotlib.text.Text at 0x2a5a188d0>]"
       ]
      }
     ],
     "prompt_number": 40
    },
    {
     "cell_type": "markdown",
     "metadata": {},
     "source": [
      "#####plot data for water trap alone"
     ]
    },
    {
     "cell_type": "code",
     "collapsed": false,
     "input": [
      "data_transformed[ablock].plot(legend=False,color=['b']*len(ablock))\n",
      "plt.ylabel('change in signal')\n",
      "plt.xlabel('time')\n",
      "plt.title('water traps')"
     ],
     "language": "python",
     "metadata": {},
     "outputs": []
    },
    {
     "cell_type": "markdown",
     "metadata": {},
     "source": [
      "#####plot data for KCl trap alone"
     ]
    },
    {
     "cell_type": "code",
     "collapsed": false,
     "input": [
      "data_transformed[bblock].plot(legend=False,color=['r']*len(bblock))\n",
      "plt.ylabel('change in signal')\n",
      "plt.xlabel('time')\n",
      "plt.title('KCl traps')"
     ],
     "language": "python",
     "metadata": {},
     "outputs": []
    },
    {
     "cell_type": "markdown",
     "metadata": {},
     "source": [
      "#####plot data for both plots as subplots"
     ]
    },
    {
     "cell_type": "code",
     "collapsed": false,
     "input": [
      "fig, axes = plt.subplots(2,sharex=True,sharey=True)\n",
      "\n",
      "#data_transformed[['a1','a2','a3','a4','a5','a6','a7']].plot(legend=False,color=['b']*7,ax=axes[0])\n",
      "#data_transformed[['b0','b1','b2','b3','b4','b5','b6','b7']].plot(legend=False,color=['r']*8,ax=axes[1])\n",
      "data_transformed[ablock].plot(legend=False,ax=axes[0])\n",
      "axes[0].set_ylabel('change in signal')\n",
      "data_transformed[bblock].plot(legend=False,ax=axes[1])\n",
      "axes[1].set_ylabel('change in signal')\n",
      "plt.xlabel('time')\n",
      "plt.ylim(50,-400)"
     ],
     "language": "python",
     "metadata": {},
     "outputs": [
      {
       "metadata": {},
       "output_type": "pyout",
       "prompt_number": 10,
       "text": [
        "(50, -400)"
       ]
      }
     ],
     "prompt_number": 10
    },
    {
     "cell_type": "code",
     "collapsed": false,
     "input": [],
     "language": "python",
     "metadata": {},
     "outputs": []
    }
   ],
   "metadata": {}
  }
 ]
}