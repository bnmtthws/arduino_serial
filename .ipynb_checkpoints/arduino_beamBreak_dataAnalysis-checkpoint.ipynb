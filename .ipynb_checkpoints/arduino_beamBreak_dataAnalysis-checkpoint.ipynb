{
 "metadata": {
  "name": "",
  "signature": "sha256:5d954f96db14aad8d5110956145f75c1dbec803c5a39650d004398544dfd28fc"
 },
 "nbformat": 3,
 "nbformat_minor": 0,
 "worksheets": [
  {
   "cells": [
    {
     "cell_type": "code",
     "collapsed": false,
     "input": [
      "import numpy as np\n",
      "import matplotlib as mpl\n",
      "from matplotlib import pyplot as plt\n",
      "import pandas as pd\n",
      "\n",
      "%matplotlib qt"
     ],
     "language": "python",
     "metadata": {},
     "outputs": []
    },
    {
     "cell_type": "code",
     "collapsed": false,
     "input": [
      "testfile = '/Users/ben/Dropbox/Vosshall Lab/Ben + Josh/Oct 3 - Proxitrench 8C x 2TbeamBreak-16pin-20141003-184756.csv'"
     ],
     "language": "python",
     "metadata": {},
     "outputs": []
    },
    {
     "cell_type": "markdown",
     "metadata": {},
     "source": [
      "####read data and convert index to time"
     ]
    },
    {
     "cell_type": "code",
     "collapsed": false,
     "input": [
      "ablock_read = ['a0','a1','a2','a3','a4','a5','a6','a7']\n",
      "bblock_read = ['b0','b1','b2','b3','b4','b5','b6','b7']\n",
      "\n",
      "ablock = ['a1','a2','a3','a4','a5','a6','a7']\n",
      "bblock = ['b0','b1','b2','b3','b4','b5','b6','b7']\n",
      "data = pd.read_csv(testfile, delimiter=',',names=['time'] + ablock_read + bblock_read ,dtype={'time': object})\n",
      "#data.index = pd.to_datetime(data['time'],format='%H%M%S')"
     ],
     "language": "python",
     "metadata": {},
     "outputs": []
    },
    {
     "cell_type": "markdown",
     "metadata": {},
     "source": [
      "####transform to 'zero' out each channel by subtracting the median value of each channel"
     ]
    },
    {
     "cell_type": "code",
     "collapsed": false,
     "input": [
      "data_transformed = data[ablock + bblock] - data[ablock + bblock].median()\n",
      "data_transformed.index = data.index"
     ],
     "language": "python",
     "metadata": {},
     "outputs": []
    },
    {
     "cell_type": "markdown",
     "metadata": {},
     "source": [
      "####plot raw data - all channels.  'A' block is blue and 'B' block is red"
     ]
    },
    {
     "cell_type": "code",
     "collapsed": false,
     "input": [
      "data[ablock + bblock].plot(legend=False,color=['b']*len(ablock) + ['r']*len(bblock))\n",
      "plt.ylabel('change in signal')\n",
      "plt.xlabel('time')\n",
      "plt.ylim(400,800)"
     ],
     "language": "python",
     "metadata": {},
     "outputs": []
    },
    {
     "cell_type": "markdown",
     "metadata": {},
     "source": [
      "#####plot data as change in signal"
     ]
    },
    {
     "cell_type": "code",
     "collapsed": false,
     "input": [
      "data_transformed[ablock + bblock].plot(legend=False,color=['b']*len(ablock) + ['r']*len(bblock))\n",
      "plt.ylabel('change in signal')\n",
      "plt.xlabel('time')"
     ],
     "language": "python",
     "metadata": {},
     "outputs": []
    },
    {
     "cell_type": "markdown",
     "metadata": {},
     "source": [
      "#####plot data for water trap alone"
     ]
    },
    {
     "cell_type": "code",
     "collapsed": false,
     "input": [
      "data_transformed[ablock].plot(legend=False,color=['b']*len(ablock))\n",
      "plt.ylabel('change in signal')\n",
      "plt.xlabel('time')\n",
      "plt.title('water traps')"
     ],
     "language": "python",
     "metadata": {},
     "outputs": []
    },
    {
     "cell_type": "markdown",
     "metadata": {},
     "source": [
      "#####plot data for KCl trap alone"
     ]
    },
    {
     "cell_type": "code",
     "collapsed": false,
     "input": [
      "data_transformed[bblock].plot(legend=False,color=['r']*len(bblock))\n",
      "plt.ylabel('change in signal')\n",
      "plt.xlabel('time')\n",
      "plt.title('KCl traps')"
     ],
     "language": "python",
     "metadata": {},
     "outputs": []
    },
    {
     "cell_type": "markdown",
     "metadata": {},
     "source": [
      "#####plot data as subplots"
     ]
    },
    {
     "cell_type": "code",
     "collapsed": false,
     "input": [
      "fig, axes = plt.subplots(2,sharex=True,sharey=True)\n",
      "\n",
      "#data_transformed[['a1','a2','a3','a4','a5','a6','a7']].plot(legend=False,color=['b']*7,ax=axes[0])\n",
      "#data_transformed[['b0','b1','b2','b3','b4','b5','b6','b7']].plot(legend=False,color=['r']*8,ax=axes[1])\n",
      "data_transformed[ablock].plot(legend=False,ax=axes[0])\n",
      "axes[0].set_ylabel('change in signal')\n",
      "data_transformed[bblock].plot(legend=False,ax=axes[1])\n",
      "axes[1].set_ylabel('change in signal')\n",
      "plt.xlabel('time')\n",
      "plt.ylim(50,-200)"
     ],
     "language": "python",
     "metadata": {},
     "outputs": []
    }
   ],
   "metadata": {}
  }
 ]
}